{
 "cells": [
  {
   "cell_type": "code",
   "execution_count": 1,
   "id": "d0905a5a",
   "metadata": {
    "execution": {
     "iopub.execute_input": "2021-10-11T17:03:43.052596Z",
     "iopub.status.busy": "2021-10-11T17:03:43.041436Z",
     "iopub.status.idle": "2021-10-11T17:03:44.902058Z",
     "shell.execute_reply": "2021-10-11T17:03:44.901320Z",
     "shell.execute_reply.started": "2021-10-11T16:14:31.413622Z"
    },
    "papermill": {
     "duration": 1.891677,
     "end_time": "2021-10-11T17:03:44.902228",
     "exception": false,
     "start_time": "2021-10-11T17:03:43.010551",
     "status": "completed"
    },
    "tags": []
   },
   "outputs": [
    {
     "name": "stdout",
     "output_type": "stream",
     "text": [
      "/kaggle/input/nlp-getting-started/sample_submission.csv\n",
      "/kaggle/input/nlp-getting-started/train.csv\n",
      "/kaggle/input/nlp-getting-started/test.csv\n"
     ]
    }
   ],
   "source": [
    "# This Python 3 environment comes with many helpful analytics libraries installed\n",
    "# It is defined by the kaggle/python Docker image: https://github.com/kaggle/docker-python\n",
    "# For example, here's several helpful packages to load\n",
    "\n",
    "import numpy as np # linear algebra\n",
    "import pandas as pd # data processing, CSV file I/O (e.g. pd.read_csv)\n",
    "\n",
    "import matplotlib.pyplot as plt\n",
    "\n",
    "import seaborn as sns\n",
    "\n",
    "plt.style.use('seaborn')\n",
    "\n",
    "import nltk\n",
    "import string\n",
    "import re\n",
    "\n",
    "# Input data files are available in the read-only \"../input/\" directory\n",
    "# For example, running this (by clicking run or pressing Shift+Enter) will list all files under the input directory\n",
    "\n",
    "import os\n",
    "for dirname, _, filenames in os.walk('/kaggle/input'):\n",
    "    for filename in filenames:\n",
    "        print(os.path.join(dirname, filename))\n",
    "\n",
    "# You can write up to 20GB to the current directory (/kaggle/working/) that gets preserved as output when you create a version using \"Save & Run All\" \n",
    "# You can also write temporary files to /kaggle/temp/, but they won't be saved outside of the current session"
   ]
  },
  {
   "cell_type": "code",
   "execution_count": 2,
   "id": "ef54c736",
   "metadata": {
    "execution": {
     "iopub.execute_input": "2021-10-11T17:03:44.951063Z",
     "iopub.status.busy": "2021-10-11T17:03:44.950095Z",
     "iopub.status.idle": "2021-10-11T17:03:45.000943Z",
     "shell.execute_reply": "2021-10-11T17:03:45.001478Z",
     "shell.execute_reply.started": "2021-10-11T16:15:36.587182Z"
    },
    "papermill": {
     "duration": 0.076319,
     "end_time": "2021-10-11T17:03:45.001650",
     "exception": false,
     "start_time": "2021-10-11T17:03:44.925331",
     "status": "completed"
    },
    "tags": []
   },
   "outputs": [],
   "source": [
    "train_df = pd.read_csv(\"/kaggle/input/nlp-getting-started/train.csv\")"
   ]
  },
  {
   "cell_type": "code",
   "execution_count": 3,
   "id": "f894bc90",
   "metadata": {
    "execution": {
     "iopub.execute_input": "2021-10-11T17:03:45.052267Z",
     "iopub.status.busy": "2021-10-11T17:03:45.046163Z",
     "iopub.status.idle": "2021-10-11T17:03:45.066759Z",
     "shell.execute_reply": "2021-10-11T17:03:45.067292Z",
     "shell.execute_reply.started": "2021-10-11T16:15:43.487585Z"
    },
    "papermill": {
     "duration": 0.044461,
     "end_time": "2021-10-11T17:03:45.067456",
     "exception": false,
     "start_time": "2021-10-11T17:03:45.022995",
     "status": "completed"
    },
    "tags": []
   },
   "outputs": [
    {
     "data": {
      "text/html": [
       "<div>\n",
       "<style scoped>\n",
       "    .dataframe tbody tr th:only-of-type {\n",
       "        vertical-align: middle;\n",
       "    }\n",
       "\n",
       "    .dataframe tbody tr th {\n",
       "        vertical-align: top;\n",
       "    }\n",
       "\n",
       "    .dataframe thead th {\n",
       "        text-align: right;\n",
       "    }\n",
       "</style>\n",
       "<table border=\"1\" class=\"dataframe\">\n",
       "  <thead>\n",
       "    <tr style=\"text-align: right;\">\n",
       "      <th></th>\n",
       "      <th>id</th>\n",
       "      <th>keyword</th>\n",
       "      <th>location</th>\n",
       "      <th>text</th>\n",
       "      <th>target</th>\n",
       "    </tr>\n",
       "  </thead>\n",
       "  <tbody>\n",
       "    <tr>\n",
       "      <th>0</th>\n",
       "      <td>1</td>\n",
       "      <td>NaN</td>\n",
       "      <td>NaN</td>\n",
       "      <td>Our Deeds are the Reason of this #earthquake M...</td>\n",
       "      <td>1</td>\n",
       "    </tr>\n",
       "    <tr>\n",
       "      <th>1</th>\n",
       "      <td>4</td>\n",
       "      <td>NaN</td>\n",
       "      <td>NaN</td>\n",
       "      <td>Forest fire near La Ronge Sask. Canada</td>\n",
       "      <td>1</td>\n",
       "    </tr>\n",
       "    <tr>\n",
       "      <th>2</th>\n",
       "      <td>5</td>\n",
       "      <td>NaN</td>\n",
       "      <td>NaN</td>\n",
       "      <td>All residents asked to 'shelter in place' are ...</td>\n",
       "      <td>1</td>\n",
       "    </tr>\n",
       "    <tr>\n",
       "      <th>3</th>\n",
       "      <td>6</td>\n",
       "      <td>NaN</td>\n",
       "      <td>NaN</td>\n",
       "      <td>13,000 people receive #wildfires evacuation or...</td>\n",
       "      <td>1</td>\n",
       "    </tr>\n",
       "    <tr>\n",
       "      <th>4</th>\n",
       "      <td>7</td>\n",
       "      <td>NaN</td>\n",
       "      <td>NaN</td>\n",
       "      <td>Just got sent this photo from Ruby #Alaska as ...</td>\n",
       "      <td>1</td>\n",
       "    </tr>\n",
       "  </tbody>\n",
       "</table>\n",
       "</div>"
      ],
      "text/plain": [
       "   id keyword location                                               text  \\\n",
       "0   1     NaN      NaN  Our Deeds are the Reason of this #earthquake M...   \n",
       "1   4     NaN      NaN             Forest fire near La Ronge Sask. Canada   \n",
       "2   5     NaN      NaN  All residents asked to 'shelter in place' are ...   \n",
       "3   6     NaN      NaN  13,000 people receive #wildfires evacuation or...   \n",
       "4   7     NaN      NaN  Just got sent this photo from Ruby #Alaska as ...   \n",
       "\n",
       "   target  \n",
       "0       1  \n",
       "1       1  \n",
       "2       1  \n",
       "3       1  \n",
       "4       1  "
      ]
     },
     "execution_count": 3,
     "metadata": {},
     "output_type": "execute_result"
    }
   ],
   "source": [
    "train_df.head()"
   ]
  },
  {
   "cell_type": "code",
   "execution_count": 4,
   "id": "27b10139",
   "metadata": {
    "execution": {
     "iopub.execute_input": "2021-10-11T17:03:45.113579Z",
     "iopub.status.busy": "2021-10-11T17:03:45.112920Z",
     "iopub.status.idle": "2021-10-11T17:03:45.117585Z",
     "shell.execute_reply": "2021-10-11T17:03:45.118119Z",
     "shell.execute_reply.started": "2021-10-11T16:15:51.796939Z"
    },
    "papermill": {
     "duration": 0.029256,
     "end_time": "2021-10-11T17:03:45.118286",
     "exception": false,
     "start_time": "2021-10-11T17:03:45.089030",
     "status": "completed"
    },
    "tags": []
   },
   "outputs": [
    {
     "data": {
      "text/plain": [
       "(7613, 5)"
      ]
     },
     "execution_count": 4,
     "metadata": {},
     "output_type": "execute_result"
    }
   ],
   "source": [
    "train_df.shape"
   ]
  },
  {
   "cell_type": "code",
   "execution_count": 5,
   "id": "6744bb3b",
   "metadata": {
    "execution": {
     "iopub.execute_input": "2021-10-11T17:03:45.168845Z",
     "iopub.status.busy": "2021-10-11T17:03:45.168175Z",
     "iopub.status.idle": "2021-10-11T17:03:45.170687Z",
     "shell.execute_reply": "2021-10-11T17:03:45.171177Z",
     "shell.execute_reply.started": "2021-10-11T16:15:57.654984Z"
    },
    "papermill": {
     "duration": 0.030861,
     "end_time": "2021-10-11T17:03:45.171339",
     "exception": false,
     "start_time": "2021-10-11T17:03:45.140478",
     "status": "completed"
    },
    "tags": []
   },
   "outputs": [
    {
     "data": {
      "text/plain": [
       "id           int64\n",
       "keyword     object\n",
       "location    object\n",
       "text        object\n",
       "target       int64\n",
       "dtype: object"
      ]
     },
     "execution_count": 5,
     "metadata": {},
     "output_type": "execute_result"
    }
   ],
   "source": [
    "train_df.dtypes"
   ]
  },
  {
   "cell_type": "code",
   "execution_count": 6,
   "id": "b7ac118e",
   "metadata": {
    "execution": {
     "iopub.execute_input": "2021-10-11T17:03:45.219888Z",
     "iopub.status.busy": "2021-10-11T17:03:45.219233Z",
     "iopub.status.idle": "2021-10-11T17:03:45.468619Z",
     "shell.execute_reply": "2021-10-11T17:03:45.468092Z",
     "shell.execute_reply.started": "2021-10-11T16:16:04.873992Z"
    },
    "papermill": {
     "duration": 0.275379,
     "end_time": "2021-10-11T17:03:45.468767",
     "exception": false,
     "start_time": "2021-10-11T17:03:45.193388",
     "status": "completed"
    },
    "tags": []
   },
   "outputs": [
    {
     "data": {
      "image/png": "[encoded data removed]",
      "text/plain": [
       "<Figure size 576x396 with 1 Axes>"
      ]
     },
     "metadata": {},
     "output_type": "display_data"
    }
   ],
   "source": [
    "train_df.isnull().sum().plot(kind='bar')\n",
    "plt.title(\"Missing values\")\n",
    "plt.show()"
   ]
  },
  {
   "cell_type": "code",
   "execution_count": 7,
   "id": "ebc4e2db",
   "metadata": {
    "execution": {
     "iopub.execute_input": "2021-10-11T17:03:45.517950Z",
     "iopub.status.busy": "2021-10-11T17:03:45.517258Z",
     "iopub.status.idle": "2021-10-11T17:03:45.678775Z",
     "shell.execute_reply": "2021-10-11T17:03:45.679311Z",
     "shell.execute_reply.started": "2021-10-11T16:16:12.430146Z"
    },
    "papermill": {
     "duration": 0.187866,
     "end_time": "2021-10-11T17:03:45.679493",
     "exception": false,
     "start_time": "2021-10-11T17:03:45.491627",
     "status": "completed"
    },
    "tags": []
   },
   "outputs": [
    {
     "data": {
      "image/png": "[encoded data removed]",
      "text/plain": [
       "<Figure size 576x396 with 1 Axes>"
      ]
     },
     "metadata": {},
     "output_type": "display_data"
    }
   ],
   "source": [
    "target_count = train_df.groupby('target').size().reset_index(name='counts')\n",
    "plt.bar(target_count.target, target_count.counts)\n",
    "plt.xticks([0,1], labels=[\"Not disaster tweets\", \"disaster tweets\"])\n",
    "plt.title(\"Target Distribution\")\n",
    "plt.show()"
   ]
  },
  {
   "cell_type": "code",
   "execution_count": 8,
   "id": "cd73fcde",
   "metadata": {
    "execution": {
     "iopub.execute_input": "2021-10-11T17:03:45.730436Z",
     "iopub.status.busy": "2021-10-11T17:03:45.729804Z",
     "iopub.status.idle": "2021-10-11T17:03:45.744827Z",
     "shell.execute_reply": "2021-10-11T17:03:45.744238Z",
     "shell.execute_reply.started": "2021-10-11T16:16:24.883849Z"
    },
    "papermill": {
     "duration": 0.041808,
     "end_time": "2021-10-11T17:03:45.744968",
     "exception": false,
     "start_time": "2021-10-11T17:03:45.703160",
     "status": "completed"
    },
    "tags": []
   },
   "outputs": [],
   "source": [
    "from nltk.corpus import stopwords\n",
    "from nltk.stem import PorterStemmer\n",
    "\n",
    "ps = PorterStemmer()\n",
    "\n",
    "eng_stopwords = set(stopwords.words('english'))\n",
    "\n",
    "def preprocess_text(val):\n",
    "    # convert to lower case\n",
    "    val = val.lower()\n",
    "    \n",
    "    val = re.sub(r\"http\\S+\", \"\", val)\n",
    "    \n",
    "    # remove punctuations\n",
    "    val = \"\".join([c for c in val if c not in string.punctuation])\n",
    "    \n",
    "    # remove digits\n",
    "    val = re.sub(r\"\\d\", \" \", val)\n",
    "    \n",
    "    # remove mulitple whitespaces into single\n",
    "    val = re.sub(r\"\\s+\", \" \", val)\n",
    "    \n",
    "    # TODO: Should use NLTK's lemmatization\n",
    "    \n",
    "    tokens = nltk.word_tokenize(val)\n",
    "\n",
    "    tokens = [t for t in tokens if t not in eng_stopwords]\n",
    "    \n",
    "    tokens = [ps.stem(t) for t in tokens]\n",
    "    \n",
    "    return ' '.join(tokens)"
   ]
  },
  {
   "cell_type": "code",
   "execution_count": 9,
   "id": "a21b11ac",
   "metadata": {
    "execution": {
     "iopub.execute_input": "2021-10-11T17:03:45.798749Z",
     "iopub.status.busy": "2021-10-11T17:03:45.796173Z",
     "iopub.status.idle": "2021-10-11T17:03:49.744269Z",
     "shell.execute_reply": "2021-10-11T17:03:49.744850Z",
     "shell.execute_reply.started": "2021-10-11T16:16:35.607992Z"
    },
    "papermill": {
     "duration": 3.975751,
     "end_time": "2021-10-11T17:03:49.745027",
     "exception": false,
     "start_time": "2021-10-11T17:03:45.769276",
     "status": "completed"
    },
    "tags": []
   },
   "outputs": [],
   "source": [
    "train_df['clean_text'] = train_df.text.apply(preprocess_text)\n"
   ]
  },
  {
   "cell_type": "code",
   "execution_count": 10,
   "id": "d2a64275",
   "metadata": {
    "execution": {
     "iopub.execute_input": "2021-10-11T17:03:49.796367Z",
     "iopub.status.busy": "2021-10-11T17:03:49.795384Z",
     "iopub.status.idle": "2021-10-11T17:03:49.805920Z",
     "shell.execute_reply": "2021-10-11T17:03:49.806466Z",
     "shell.execute_reply.started": "2021-10-11T16:16:44.920168Z"
    },
    "papermill": {
     "duration": 0.037806,
     "end_time": "2021-10-11T17:03:49.806637",
     "exception": false,
     "start_time": "2021-10-11T17:03:49.768831",
     "status": "completed"
    },
    "tags": []
   },
   "outputs": [],
   "source": [
    "train_df['clean_text_len'] = train_df.clean_text.apply(lambda x:len(x))"
   ]
  },
  {
   "cell_type": "code",
   "execution_count": 11,
   "id": "025a9da4",
   "metadata": {
    "execution": {
     "iopub.execute_input": "2021-10-11T17:03:49.858642Z",
     "iopub.status.busy": "2021-10-11T17:03:49.857652Z",
     "iopub.status.idle": "2021-10-11T17:03:49.870148Z",
     "shell.execute_reply": "2021-10-11T17:03:49.870598Z",
     "shell.execute_reply.started": "2021-10-11T16:16:51.801177Z"
    },
    "papermill": {
     "duration": 0.040168,
     "end_time": "2021-10-11T17:03:49.870782",
     "exception": false,
     "start_time": "2021-10-11T17:03:49.830614",
     "status": "completed"
    },
    "tags": []
   },
   "outputs": [
    {
     "data": {
      "text/html": [
       "<div>\n",
       "<style scoped>\n",
       "    .dataframe tbody tr th:only-of-type {\n",
       "        vertical-align: middle;\n",
       "    }\n",
       "\n",
       "    .dataframe tbody tr th {\n",
       "        vertical-align: top;\n",
       "    }\n",
       "\n",
       "    .dataframe thead th {\n",
       "        text-align: right;\n",
       "    }\n",
       "</style>\n",
       "<table border=\"1\" class=\"dataframe\">\n",
       "  <thead>\n",
       "    <tr style=\"text-align: right;\">\n",
       "      <th></th>\n",
       "      <th>id</th>\n",
       "      <th>keyword</th>\n",
       "      <th>location</th>\n",
       "      <th>text</th>\n",
       "      <th>target</th>\n",
       "      <th>clean_text</th>\n",
       "      <th>clean_text_len</th>\n",
       "    </tr>\n",
       "  </thead>\n",
       "  <tbody>\n",
       "    <tr>\n",
       "      <th>0</th>\n",
       "      <td>1</td>\n",
       "      <td>NaN</td>\n",
       "      <td>NaN</td>\n",
       "      <td>Our Deeds are the Reason of this #earthquake M...</td>\n",
       "      <td>1</td>\n",
       "      <td>deed reason earthquak may allah forgiv us</td>\n",
       "      <td>41</td>\n",
       "    </tr>\n",
       "    <tr>\n",
       "      <th>1</th>\n",
       "      <td>4</td>\n",
       "      <td>NaN</td>\n",
       "      <td>NaN</td>\n",
       "      <td>Forest fire near La Ronge Sask. Canada</td>\n",
       "      <td>1</td>\n",
       "      <td>forest fire near la rong sask canada</td>\n",
       "      <td>36</td>\n",
       "    </tr>\n",
       "    <tr>\n",
       "      <th>2</th>\n",
       "      <td>5</td>\n",
       "      <td>NaN</td>\n",
       "      <td>NaN</td>\n",
       "      <td>All residents asked to 'shelter in place' are ...</td>\n",
       "      <td>1</td>\n",
       "      <td>resid ask shelter place notifi offic evacu she...</td>\n",
       "      <td>69</td>\n",
       "    </tr>\n",
       "    <tr>\n",
       "      <th>3</th>\n",
       "      <td>6</td>\n",
       "      <td>NaN</td>\n",
       "      <td>NaN</td>\n",
       "      <td>13,000 people receive #wildfires evacuation or...</td>\n",
       "      <td>1</td>\n",
       "      <td>peopl receiv wildfir evacu order california</td>\n",
       "      <td>43</td>\n",
       "    </tr>\n",
       "    <tr>\n",
       "      <th>4</th>\n",
       "      <td>7</td>\n",
       "      <td>NaN</td>\n",
       "      <td>NaN</td>\n",
       "      <td>Just got sent this photo from Ruby #Alaska as ...</td>\n",
       "      <td>1</td>\n",
       "      <td>got sent photo rubi alaska smoke wildfir pour ...</td>\n",
       "      <td>52</td>\n",
       "    </tr>\n",
       "  </tbody>\n",
       "</table>\n",
       "</div>"
      ],
      "text/plain": [
       "   id keyword location                                               text  \\\n",
       "0   1     NaN      NaN  Our Deeds are the Reason of this #earthquake M...   \n",
       "1   4     NaN      NaN             Forest fire near La Ronge Sask. Canada   \n",
       "2   5     NaN      NaN  All residents asked to 'shelter in place' are ...   \n",
       "3   6     NaN      NaN  13,000 people receive #wildfires evacuation or...   \n",
       "4   7     NaN      NaN  Just got sent this photo from Ruby #Alaska as ...   \n",
       "\n",
       "   target                                         clean_text  clean_text_len  \n",
       "0       1          deed reason earthquak may allah forgiv us              41  \n",
       "1       1               forest fire near la rong sask canada              36  \n",
       "2       1  resid ask shelter place notifi offic evacu she...              69  \n",
       "3       1        peopl receiv wildfir evacu order california              43  \n",
       "4       1  got sent photo rubi alaska smoke wildfir pour ...              52  "
      ]
     },
     "execution_count": 11,
     "metadata": {},
     "output_type": "execute_result"
    }
   ],
   "source": [
    "train_df.head()"
   ]
  },
  {
   "cell_type": "code",
   "execution_count": 12,
   "id": "026d193c",
   "metadata": {
    "execution": {
     "iopub.execute_input": "2021-10-11T17:03:49.922396Z",
     "iopub.status.busy": "2021-10-11T17:03:49.921758Z",
     "iopub.status.idle": "2021-10-11T17:03:49.946804Z",
     "shell.execute_reply": "2021-10-11T17:03:49.946157Z",
     "shell.execute_reply.started": "2021-10-11T16:17:34.140992Z"
    },
    "papermill": {
     "duration": 0.052112,
     "end_time": "2021-10-11T17:03:49.946941",
     "exception": false,
     "start_time": "2021-10-11T17:03:49.894829",
     "status": "completed"
    },
    "tags": []
   },
   "outputs": [
    {
     "data": {
      "text/html": [
       "<div>\n",
       "<style scoped>\n",
       "    .dataframe tbody tr th:only-of-type {\n",
       "        vertical-align: middle;\n",
       "    }\n",
       "\n",
       "    .dataframe tbody tr th {\n",
       "        vertical-align: top;\n",
       "    }\n",
       "\n",
       "    .dataframe thead th {\n",
       "        text-align: right;\n",
       "    }\n",
       "</style>\n",
       "<table border=\"1\" class=\"dataframe\">\n",
       "  <thead>\n",
       "    <tr style=\"text-align: right;\">\n",
       "      <th></th>\n",
       "      <th>id</th>\n",
       "      <th>target</th>\n",
       "      <th>clean_text_len</th>\n",
       "    </tr>\n",
       "  </thead>\n",
       "  <tbody>\n",
       "    <tr>\n",
       "      <th>count</th>\n",
       "      <td>7613.000000</td>\n",
       "      <td>7613.00000</td>\n",
       "      <td>7613.000000</td>\n",
       "    </tr>\n",
       "    <tr>\n",
       "      <th>mean</th>\n",
       "      <td>5441.934848</td>\n",
       "      <td>0.42966</td>\n",
       "      <td>57.531197</td>\n",
       "    </tr>\n",
       "    <tr>\n",
       "      <th>std</th>\n",
       "      <td>3137.116090</td>\n",
       "      <td>0.49506</td>\n",
       "      <td>22.138020</td>\n",
       "    </tr>\n",
       "    <tr>\n",
       "      <th>min</th>\n",
       "      <td>1.000000</td>\n",
       "      <td>0.00000</td>\n",
       "      <td>3.000000</td>\n",
       "    </tr>\n",
       "    <tr>\n",
       "      <th>25%</th>\n",
       "      <td>2734.000000</td>\n",
       "      <td>0.00000</td>\n",
       "      <td>41.000000</td>\n",
       "    </tr>\n",
       "    <tr>\n",
       "      <th>50%</th>\n",
       "      <td>5408.000000</td>\n",
       "      <td>0.00000</td>\n",
       "      <td>58.000000</td>\n",
       "    </tr>\n",
       "    <tr>\n",
       "      <th>75%</th>\n",
       "      <td>8146.000000</td>\n",
       "      <td>1.00000</td>\n",
       "      <td>74.000000</td>\n",
       "    </tr>\n",
       "    <tr>\n",
       "      <th>max</th>\n",
       "      <td>10873.000000</td>\n",
       "      <td>1.00000</td>\n",
       "      <td>127.000000</td>\n",
       "    </tr>\n",
       "  </tbody>\n",
       "</table>\n",
       "</div>"
      ],
      "text/plain": [
       "                 id      target  clean_text_len\n",
       "count   7613.000000  7613.00000     7613.000000\n",
       "mean    5441.934848     0.42966       57.531197\n",
       "std     3137.116090     0.49506       22.138020\n",
       "min        1.000000     0.00000        3.000000\n",
       "25%     2734.000000     0.00000       41.000000\n",
       "50%     5408.000000     0.00000       58.000000\n",
       "75%     8146.000000     1.00000       74.000000\n",
       "max    10873.000000     1.00000      127.000000"
      ]
     },
     "execution_count": 12,
     "metadata": {},
     "output_type": "execute_result"
    }
   ],
   "source": [
    "train_df.describe()"
   ]
  },
  {
   "cell_type": "code",
   "execution_count": 13,
   "id": "4ae54f26",
   "metadata": {
    "execution": {
     "iopub.execute_input": "2021-10-11T17:03:50.020308Z",
     "iopub.status.busy": "2021-10-11T17:03:50.019618Z",
     "iopub.status.idle": "2021-10-11T17:03:50.388108Z",
     "shell.execute_reply": "2021-10-11T17:03:50.387553Z",
     "shell.execute_reply.started": "2021-10-11T16:17:41.375714Z"
    },
    "papermill": {
     "duration": 0.416658,
     "end_time": "2021-10-11T17:03:50.388263",
     "exception": false,
     "start_time": "2021-10-11T17:03:49.971605",
     "status": "completed"
    },
    "tags": []
   },
   "outputs": [
    {
     "data": {
      "image/png": "[encoded data removed]",
      "text/plain": [
       "<Figure size 720x360 with 2 Axes>"
      ]
     },
     "metadata": {},
     "output_type": "display_data"
    }
   ],
   "source": [
    "fig = plt.figure(figsize=(10,5))\n",
    "plt.subplot(1,2,1)\n",
    "plt.hist(train_df['clean_text_len'][train_df.target==0])\n",
    "plt.title(\"Not disaster tweets\")\n",
    "\n",
    "plt.subplot(1,2,2)\n",
    "plt.hist(train_df['clean_text_len'][train_df.target==1], color='orange')\n",
    "plt.title(\"Disaster tweets\")\n",
    "\n",
    "fig.supxlabel(\"tweet lenghts\")\n",
    "fig.supylabel(\"counts\")\n",
    "plt.show()"
   ]
  },
  {
   "cell_type": "code",
   "execution_count": 14,
   "id": "8cff94d0",
   "metadata": {
    "execution": {
     "iopub.execute_input": "2021-10-11T17:03:50.445368Z",
     "iopub.status.busy": "2021-10-11T17:03:50.444666Z",
     "iopub.status.idle": "2021-10-11T17:03:50.446454Z",
     "shell.execute_reply": "2021-10-11T17:03:50.446914Z",
     "shell.execute_reply.started": "2021-10-11T16:17:50.260114Z"
    },
    "papermill": {
     "duration": 0.03304,
     "end_time": "2021-10-11T17:03:50.447086",
     "exception": false,
     "start_time": "2021-10-11T17:03:50.414046",
     "status": "completed"
    },
    "tags": []
   },
   "outputs": [],
   "source": [
    "from sklearn.model_selection import train_test_split\n",
    "\n",
    "from sklearn.feature_extraction.text import TfidfVectorizer, CountVectorizer\n",
    "\n",
    "# from sklearn.preprocessing import Normalizer"
   ]
  },
  {
   "cell_type": "code",
   "execution_count": 15,
   "id": "079b0e21",
   "metadata": {
    "execution": {
     "iopub.execute_input": "2021-10-11T17:03:50.507210Z",
     "iopub.status.busy": "2021-10-11T17:03:50.501923Z",
     "iopub.status.idle": "2021-10-11T17:03:50.510637Z",
     "shell.execute_reply": "2021-10-11T17:03:50.511105Z",
     "shell.execute_reply.started": "2021-10-11T16:21:45.225978Z"
    },
    "papermill": {
     "duration": 0.038443,
     "end_time": "2021-10-11T17:03:50.511278",
     "exception": false,
     "start_time": "2021-10-11T17:03:50.472835",
     "status": "completed"
    },
    "tags": []
   },
   "outputs": [],
   "source": [
    "X_train, X_valid, y_train, y_valid = train_test_split(train_df.clean_text, train_df.target, test_size=0.20, random_state=42)"
   ]
  },
  {
   "cell_type": "code",
   "execution_count": 16,
   "id": "2a5b095d",
   "metadata": {
    "execution": {
     "iopub.execute_input": "2021-10-11T17:03:50.613831Z",
     "iopub.status.busy": "2021-10-11T17:03:50.577627Z",
     "iopub.status.idle": "2021-10-11T17:03:50.831714Z",
     "shell.execute_reply": "2021-10-11T17:03:50.831106Z",
     "shell.execute_reply.started": "2021-10-11T16:22:17.331837Z"
    },
    "papermill": {
     "duration": 0.294306,
     "end_time": "2021-10-11T17:03:50.831877",
     "exception": false,
     "start_time": "2021-10-11T17:03:50.537571",
     "status": "completed"
    },
    "tags": []
   },
   "outputs": [],
   "source": [
    "vectorizer = TfidfVectorizer(max_features=8000, ngram_range=(1,1))\n",
    "\n",
    "# vectorizer.fit(train_df.clean_text)\n",
    "vectorizer.fit(X_train)\n",
    "\n",
    "X_train = vectorizer.transform(X_train)\n",
    "X_valid = vectorizer.transform(X_valid)"
   ]
  },
  {
   "cell_type": "code",
   "execution_count": 17,
   "id": "adc93ceb",
   "metadata": {
    "execution": {
     "iopub.execute_input": "2021-10-11T17:03:50.889777Z",
     "iopub.status.busy": "2021-10-11T17:03:50.889103Z",
     "iopub.status.idle": "2021-10-11T17:03:52.029246Z",
     "shell.execute_reply": "2021-10-11T17:03:52.029757Z",
     "shell.execute_reply.started": "2021-10-11T16:22:32.418417Z"
    },
    "papermill": {
     "duration": 1.171938,
     "end_time": "2021-10-11T17:03:52.029946",
     "exception": false,
     "start_time": "2021-10-11T17:03:50.858008",
     "status": "completed"
    },
    "tags": []
   },
   "outputs": [
    {
     "data": {
      "text/html": [
       "<style type='text/css'>\n",
       ".datatable table.frame { margin-bottom: 0; }\n",
       ".datatable table.frame thead { border-bottom: none; }\n",
       ".datatable table.frame tr.coltypes td {  color: #FFFFFF;  line-height: 6px;  padding: 0 0.5em;}\n",
       ".datatable .bool    { background: #DDDD99; }\n",
       ".datatable .object  { background: #565656; }\n",
       ".datatable .int     { background: #5D9E5D; }\n",
       ".datatable .float   { background: #4040CC; }\n",
       ".datatable .str     { background: #CC4040; }\n",
       ".datatable .time    { background: #40CC40; }\n",
       ".datatable .row_index {  background: var(--jp-border-color3);  border-right: 1px solid var(--jp-border-color0);  color: var(--jp-ui-font-color3);  font-size: 9px;}\n",
       ".datatable .frame tbody td { text-align: left; }\n",
       ".datatable .frame tr.coltypes .row_index {  background: var(--jp-border-color0);}\n",
       ".datatable th:nth-child(2) { padding-left: 12px; }\n",
       ".datatable .hellipsis {  color: var(--jp-cell-editor-border-color);}\n",
       ".datatable .vellipsis {  background: var(--jp-layout-color0);  color: var(--jp-cell-editor-border-color);}\n",
       ".datatable .na {  color: var(--jp-cell-editor-border-color);  font-size: 80%;}\n",
       ".datatable .sp {  opacity: 0.25;}\n",
       ".datatable .footer { font-size: 9px; }\n",
       ".datatable .frame_dimensions {  background: var(--jp-border-color3);  border-top: 1px solid var(--jp-border-color0);  color: var(--jp-ui-font-color3);  display: inline-block;  opacity: 0.6;  padding: 1px 10px 1px 5px;}\n",
       "</style>\n"
      ],
      "text/plain": [
       "<IPython.core.display.HTML object>"
      ]
     },
     "metadata": {},
     "output_type": "display_data"
    }
   ],
   "source": [
    "from sklearn.linear_model import LogisticRegression\n",
    "# from sklearn.svm import SVC\n",
    "from sklearn.ensemble import RandomForestClassifier # , GradientBoostingClassifier\n",
    "\n",
    "from sklearn.model_selection import GridSearchCV\n",
    "\n",
    "# from xgboost import XGBClassifier\n",
    "from lightgbm import LGBMClassifier"
   ]
  },
  {
   "cell_type": "code",
   "execution_count": 18,
   "id": "867ec8d8",
   "metadata": {
    "execution": {
     "iopub.execute_input": "2021-10-11T17:03:52.089173Z",
     "iopub.status.busy": "2021-10-11T17:03:52.088530Z",
     "iopub.status.idle": "2021-10-11T17:03:52.091561Z",
     "shell.execute_reply": "2021-10-11T17:03:52.091041Z",
     "shell.execute_reply.started": "2021-10-11T16:22:40.294189Z"
    },
    "papermill": {
     "duration": 0.035302,
     "end_time": "2021-10-11T17:03:52.091692",
     "exception": false,
     "start_time": "2021-10-11T17:03:52.056390",
     "status": "completed"
    },
    "tags": []
   },
   "outputs": [],
   "source": [
    "models = [  \n",
    "    {\n",
    "        'name' : 'Light GBM Classifier',\n",
    "        'estimator' : LGBMClassifier(),\n",
    "        'params' : {'n_estimators': (50, 100, 150, 200, 500)}\n",
    "    }, \n",
    "    {\n",
    "        'name' : 'Random Forest Classifier',\n",
    "        'estimator' : RandomForestClassifier(),\n",
    "        'params' : {'n_estimators':(10, 50, 100, 150, 200)}\n",
    "    },\n",
    "]"
   ]
  },
  {
   "cell_type": "code",
   "execution_count": 19,
   "id": "6b28d3a6",
   "metadata": {
    "execution": {
     "iopub.execute_input": "2021-10-11T17:03:52.152899Z",
     "iopub.status.busy": "2021-10-11T17:03:52.151938Z",
     "iopub.status.idle": "2021-10-11T17:06:19.053178Z",
     "shell.execute_reply": "2021-10-11T17:06:19.053950Z",
     "shell.execute_reply.started": "2021-10-11T16:22:48.497368Z"
    },
    "papermill": {
     "duration": 146.936182,
     "end_time": "2021-10-11T17:06:19.054209",
     "exception": false,
     "start_time": "2021-10-11T17:03:52.118027",
     "status": "completed"
    },
    "tags": []
   },
   "outputs": [
    {
     "name": "stdout",
     "output_type": "stream",
     "text": [
      "Fitting 5 folds for each of 5 candidates, totalling 25 fits\n"
     ]
    },
    {
     "name": "stderr",
     "output_type": "stream",
     "text": [
      "[Parallel(n_jobs=3)]: Using backend LokyBackend with 3 concurrent workers.\n",
      "[Parallel(n_jobs=3)]: Done  25 out of  25 | elapsed:   15.4s finished\n"
     ]
    },
    {
     "name": "stdout",
     "output_type": "stream",
     "text": [
      "-------------------------------------\n",
      "Model: Light GBM Classifier , Score: 0.7747866053841103\n",
      "{'n_estimators': 50}, 0.76913, (-/+ 0.00109)\n",
      "{'n_estimators': 100}, 0.76716, (-/+ 0.00339)\n",
      "{'n_estimators': 150}, 0.76667, (-/+ 0.00141)\n",
      "{'n_estimators': 200}, 0.76338, (-/+ 0.00468)\n",
      "{'n_estimators': 500}, 0.76141, (-/+ 0.00694)\n",
      "Fitting 5 folds for each of 5 candidates, totalling 25 fits\n"
     ]
    },
    {
     "name": "stderr",
     "output_type": "stream",
     "text": [
      "[Parallel(n_jobs=3)]: Using backend LokyBackend with 3 concurrent workers.\n",
      "[Parallel(n_jobs=3)]: Done  25 out of  25 | elapsed:  1.9min finished\n"
     ]
    },
    {
     "name": "stdout",
     "output_type": "stream",
     "text": [
      "-------------------------------------\n",
      "Model: Random Forest Classifier , Score: 0.7852921864740644\n",
      "{'n_estimators': 10}, 0.76667, (-/+ 0.00699)\n",
      "{'n_estimators': 50}, 0.77980, (-/+ 0.01054)\n",
      "{'n_estimators': 100}, 0.78095, (-/+ 0.00633)\n",
      "{'n_estimators': 150}, 0.78030, (-/+ 0.00824)\n",
      "{'n_estimators': 200}, 0.78539, (-/+ 0.00931)\n"
     ]
    }
   ],
   "source": [
    "best_estimators = {}\n",
    "for model in models:\n",
    "    search = GridSearchCV(model['estimator'], param_grid=model['params'], verbose=1, n_jobs=3)\n",
    "    search.fit(X_train, y_train)\n",
    "    score = search.best_estimator_.score(X_valid, y_valid)\n",
    "    best_estimators[model['name']] = search.best_estimator_\n",
    "    print(\"-------------------------------------\")\n",
    "    print(\"Model:\", model[\"name\"], \", Score:\", score)\n",
    "    for param, mean_score, std_score in zip(search.cv_results_['params'], \n",
    "                                                search.cv_results_['mean_test_score'], \n",
    "                                                search.cv_results_['std_test_score']):\n",
    "        print(f\"{param}, {mean_score:.5f}, (-/+ {std_score:.5f})\")\n",
    "        "
   ]
  },
  {
   "cell_type": "code",
   "execution_count": 20,
   "id": "a0cac51b",
   "metadata": {
    "execution": {
     "iopub.execute_input": "2021-10-11T17:06:19.115070Z",
     "iopub.status.busy": "2021-10-11T17:06:19.114436Z",
     "iopub.status.idle": "2021-10-11T17:06:19.121575Z",
     "shell.execute_reply": "2021-10-11T17:06:19.120943Z",
     "shell.execute_reply.started": "2021-10-11T16:25:11.508453Z"
    },
    "papermill": {
     "duration": 0.038779,
     "end_time": "2021-10-11T17:06:19.121708",
     "exception": false,
     "start_time": "2021-10-11T17:06:19.082929",
     "status": "completed"
    },
    "tags": []
   },
   "outputs": [
    {
     "data": {
      "text/plain": [
       "{'bootstrap': True,\n",
       " 'ccp_alpha': 0.0,\n",
       " 'class_weight': None,\n",
       " 'criterion': 'gini',\n",
       " 'max_depth': None,\n",
       " 'max_features': 'auto',\n",
       " 'max_leaf_nodes': None,\n",
       " 'max_samples': None,\n",
       " 'min_impurity_decrease': 0.0,\n",
       " 'min_impurity_split': None,\n",
       " 'min_samples_leaf': 1,\n",
       " 'min_samples_split': 2,\n",
       " 'min_weight_fraction_leaf': 0.0,\n",
       " 'n_estimators': 200,\n",
       " 'n_jobs': None,\n",
       " 'oob_score': False,\n",
       " 'random_state': None,\n",
       " 'verbose': 0,\n",
       " 'warm_start': False}"
      ]
     },
     "execution_count": 20,
     "metadata": {},
     "output_type": "execute_result"
    }
   ],
   "source": [
    "best_model = best_estimators['Random Forest Classifier']\n",
    "best_model.get_params()"
   ]
  },
  {
   "cell_type": "code",
   "execution_count": 21,
   "id": "ae26291f",
   "metadata": {
    "execution": {
     "iopub.execute_input": "2021-10-11T17:06:19.186102Z",
     "iopub.status.busy": "2021-10-11T17:06:19.183451Z",
     "iopub.status.idle": "2021-10-11T17:06:20.960203Z",
     "shell.execute_reply": "2021-10-11T17:06:20.960691Z",
     "shell.execute_reply.started": "2021-10-11T16:25:11.517495Z"
    },
    "papermill": {
     "duration": 1.809579,
     "end_time": "2021-10-11T17:06:20.960907",
     "exception": false,
     "start_time": "2021-10-11T17:06:19.151328",
     "status": "completed"
    },
    "tags": []
   },
   "outputs": [],
   "source": [
    "test_df = pd.read_csv(\"/kaggle/input/nlp-getting-started/test.csv\")\n",
    "test_df['clean_text'] = test_df.text.apply(preprocess_text)\n",
    "X_test = vectorizer.transform(test_df.clean_text)"
   ]
  },
  {
   "cell_type": "code",
   "execution_count": 22,
   "id": "d415366e",
   "metadata": {
    "execution": {
     "iopub.execute_input": "2021-10-11T17:06:21.023693Z",
     "iopub.status.busy": "2021-10-11T17:06:21.021558Z",
     "iopub.status.idle": "2021-10-11T17:06:21.659849Z",
     "shell.execute_reply": "2021-10-11T17:06:21.659263Z",
     "shell.execute_reply.started": "2021-10-11T16:27:50.740669Z"
    },
    "papermill": {
     "duration": 0.67002,
     "end_time": "2021-10-11T17:06:21.660017",
     "exception": false,
     "start_time": "2021-10-11T17:06:20.989997",
     "status": "completed"
    },
    "tags": []
   },
   "outputs": [],
   "source": [
    "scores = best_model.predict(X_test)"
   ]
  },
  {
   "cell_type": "code",
   "execution_count": 23,
   "id": "209dc53f",
   "metadata": {
    "execution": {
     "iopub.execute_input": "2021-10-11T17:06:21.723982Z",
     "iopub.status.busy": "2021-10-11T17:06:21.723094Z",
     "iopub.status.idle": "2021-10-11T17:06:21.727154Z",
     "shell.execute_reply": "2021-10-11T17:06:21.726650Z",
     "shell.execute_reply.started": "2021-10-11T16:27:56.724074Z"
    },
    "papermill": {
     "duration": 0.038378,
     "end_time": "2021-10-11T17:06:21.727296",
     "exception": false,
     "start_time": "2021-10-11T17:06:21.688918",
     "status": "completed"
    },
    "tags": []
   },
   "outputs": [
    {
     "data": {
      "text/plain": [
       "array([1, 1, 1, 1, 1, 1, 0, 0, 0, 0, 0, 1, 0, 0, 0, 0, 0, 1, 0, 0])"
      ]
     },
     "execution_count": 23,
     "metadata": {},
     "output_type": "execute_result"
    }
   ],
   "source": [
    "scores[:20]"
   ]
  },
  {
   "cell_type": "code",
   "execution_count": 24,
   "id": "a3ffb0c0",
   "metadata": {
    "execution": {
     "iopub.execute_input": "2021-10-11T17:06:21.791140Z",
     "iopub.status.busy": "2021-10-11T17:06:21.790473Z",
     "iopub.status.idle": "2021-10-11T17:06:21.815916Z",
     "shell.execute_reply": "2021-10-11T17:06:21.815157Z",
     "shell.execute_reply.started": "2021-10-11T16:28:02.640679Z"
    },
    "papermill": {
     "duration": 0.059657,
     "end_time": "2021-10-11T17:06:21.816061",
     "exception": false,
     "start_time": "2021-10-11T17:06:21.756404",
     "status": "completed"
    },
    "tags": []
   },
   "outputs": [],
   "source": [
    "submit_df = pd.read_csv(\"/kaggle/input/nlp-getting-started/sample_submission.csv\")\n",
    "submit_df.target = scores\n",
    "submit_df.to_csv(\"submission.csv\", index=False)"
   ]
  },
  {
   "cell_type": "code",
   "execution_count": null,
   "id": "74d3e2b5",
   "metadata": {
    "papermill": {
     "duration": 0.030131,
     "end_time": "2021-10-11T17:06:21.875536",
     "exception": false,
     "start_time": "2021-10-11T17:06:21.845405",
     "status": "completed"
    },
    "tags": []
   },
   "outputs": [],
   "source": []
  }
 ],
 "metadata": {
  "kernelspec": {
   "display_name": "Python 3",
   "language": "python",
   "name": "python3"
  },
  "language_info": {
   "codemirror_mode": {
    "name": "ipython",
    "version": 3
   },
   "file_extension": ".py",
   "mimetype": "text/x-python",
   "name": "python",
   "nbconvert_exporter": "python",
   "pygments_lexer": "ipython3",
   "version": "3.7.10"
  },
  "papermill": {
   "default_parameters": {},
   "duration": 168.896165,
   "end_time": "2021-10-11T17:06:23.194410",
   "environment_variables": {},
   "exception": null,
   "input_path": "__notebook__.ipynb",
   "output_path": "__notebook__.ipynb",
   "parameters": {},
   "start_time": "2021-10-11T17:03:34.298245",
   "version": "2.3.3"
  }
 },
 "nbformat": 4,
 "nbformat_minor": 5
}
